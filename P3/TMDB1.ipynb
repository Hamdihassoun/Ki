{
 "cells": [
  {
   "cell_type": "code",
   "execution_count": 1,
   "id": "82966455-72fd-439b-841e-edab9b943a0a",
   "metadata": {},
   "outputs": [],
   "source": [
    "import pandas as pd\n",
    "import numpy as np\n",
    "from sklearn.model_selection import train_test_split\n",
    "from sklearn.tree import DecisionTreeRegressor\n",
    "from sklearn.metrics import mean_squared_error\n"
   ]
  },
  {
   "cell_type": "code",
   "execution_count": 2,
   "id": "8445fdfe-0add-4c56-9103-cc1e93cc55dd",
   "metadata": {},
   "outputs": [
    {
     "data": {
      "text/plain": [
       "id                          0\n",
       "belongs_to_collection    2396\n",
       "budget                      0\n",
       "genres                      7\n",
       "homepage                 2054\n",
       "imdb_id                     0\n",
       "original_language           0\n",
       "original_title              0\n",
       "overview                    8\n",
       "popularity                  0\n",
       "poster_path                 1\n",
       "production_companies      156\n",
       "production_countries       55\n",
       "release_date                0\n",
       "runtime                     2\n",
       "spoken_languages           20\n",
       "status                      0\n",
       "tagline                   597\n",
       "title                       0\n",
       "Keywords                  276\n",
       "cast                       13\n",
       "crew                       16\n",
       "revenue                     0\n",
       "dtype: int64"
      ]
     },
     "execution_count": 2,
     "metadata": {},
     "output_type": "execute_result"
    }
   ],
   "source": [
    "# Daten einlesen\n",
    "train = pd.read_csv('data/train.csv')\n",
    "test = pd.read_csv('data/test.csv')\n",
    "\n",
    "train.isnull().sum()\n"
   ]
  },
  {
   "cell_type": "code",
   "execution_count": 3,
   "id": "eac4600d-efd5-4634-a48f-c2b5f54931db",
   "metadata": {},
   "outputs": [],
   "source": [
    "# Fehlende Werte in den relevanten Spalten durch den Durchschnitt ersetzen\n",
    "# Fehlende Werte im Trainingsdatensatz auffüllen\n",
    "train['budget'] = train['budget'].fillna(0)\n",
    "train['popularity'] = train['popularity'].fillna(train['popularity'].mean())\n",
    "train['runtime'] = train['runtime'].fillna(train['runtime'].mean())\n",
    "\n",
    "# Fehlende Werte im Testdatensatz auffüllen\n",
    "test['budget'] = test['budget'].fillna(0)\n",
    "test['popularity'] = test['popularity'].fillna(test['popularity'].mean())\n",
    "test['runtime'] = test['runtime'].fillna(test['runtime'].mean())\n",
    "\n",
    "\n",
    "# Auswahl der Features\n",
    "features = ['budget', 'popularity', 'runtime']\n",
    "X = train[features]\n",
    "y = train['revenue']\n",
    "X_test = test[features]\n"
   ]
  },
  {
   "cell_type": "code",
   "execution_count": 4,
   "id": "0c400f96-3f6e-47ae-8954-e0e393f81ee6",
   "metadata": {},
   "outputs": [],
   "source": [
    "# Datenaufteilung in Trainings- und Validierungsdaten\n",
    "X_train, X_val, y_train, y_val = train_test_split(X, y, test_size=0.2, random_state=42)\n",
    "\n",
    "# Modell initialisieren und trainieren\n",
    "model = DecisionTreeRegressor(random_state=42)\n",
    "model.fit(X_train, y_train)\n",
    "\n",
    "# Vorhersage auf den Validierungsdaten\n",
    "y_pred = model.predict(X_val)\n",
    "\n",
    "\n"
   ]
  },
  {
   "cell_type": "code",
   "execution_count": 5,
   "id": "49d96062-3997-4cec-b20c-76e2eec9beea",
   "metadata": {},
   "outputs": [
    {
     "name": "stdout",
     "output_type": "stream",
     "text": [
      "RMSE des Decision Tree Modells: 110947036.31303369\n"
     ]
    }
   ],
   "source": [
    "# RMSE ausrechnen\n",
    "rmse = np.sqrt(mean_squared_error(y_val, y_pred))\n",
    "print(f'RMSE des Decision Tree Modells: {rmse}')\n",
    "\n",
    "\n"
   ]
  },
  {
   "cell_type": "code",
   "execution_count": 6,
   "id": "71552a48-3ac8-497f-9c91-8f874011d136",
   "metadata": {},
   "outputs": [
    {
     "name": "stdout",
     "output_type": "stream",
     "text": [
      "Submission-Datei wurde erstellt: submission_decision_tree.csv\n"
     ]
    }
   ],
   "source": [
    "# Vorhersage auf den Testdaten\n",
    "test_predictions = model.predict(X_test)\n",
    "\n",
    "# Erstellung der Submission-Datei\n",
    "submission = pd.DataFrame({\n",
    "    'id': pd.read_csv('data/test.csv')['id'],\n",
    "    'revenue': test_predictions\n",
    "})\n",
    "submission.to_csv('submission_decision_tree3.csv', index=False)\n",
    "\n",
    "print(\"Submission-Datei wurde erstellt: submission_decision_tree.csv\")"
   ]
  },
  {
   "cell_type": "code",
   "execution_count": null,
   "id": "88deb9b3-18c2-49ea-aa8c-4cf6357996a1",
   "metadata": {},
   "outputs": [],
   "source": []
  }
 ],
 "metadata": {
  "kernelspec": {
   "display_name": "Python 3 (ipykernel)",
   "language": "python",
   "name": "python3"
  },
  "language_info": {
   "codemirror_mode": {
    "name": "ipython",
    "version": 3
   },
   "file_extension": ".py",
   "mimetype": "text/x-python",
   "name": "python",
   "nbconvert_exporter": "python",
   "pygments_lexer": "ipython3",
   "version": "3.12.7"
  }
 },
 "nbformat": 4,
 "nbformat_minor": 5
}
